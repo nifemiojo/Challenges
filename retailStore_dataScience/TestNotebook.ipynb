{
 "cells": [
  {
   "cell_type": "code",
   "execution_count": 6,
   "metadata": {},
   "outputs": [],
   "source": [
    "import pandas as pd\n",
    "from datetime import time\n",
    "\n",
    "data = pd.read_csv('C:/Users/Nifemi/Code/vsc/TenzoInt/work_shifts.csv')"
   ]
  },
  {
   "cell_type": "code",
   "execution_count": 7,
   "metadata": {},
   "outputs": [
    {
     "output_type": "execute_result",
     "data": {
      "text/plain": [
       "   break_notes end_time  pay_rate start_time\n",
       "0        15-18    23:00      10.0      10:00\n",
       "1  18.30-19.00    23:00      12.0      18:00\n",
       "2      4PM-5PM    22:30      14.0      12:00\n",
       "3          3-4    18:00      10.0      09:00\n",
       "4     4-4.10PM    23:00      20.0      09:00\n",
       "5      15 - 17    23:00      10.0      11:00\n",
       "6      11 - 13    16:00      10.0      10:00"
      ],
      "text/html": "<div>\n<style scoped>\n    .dataframe tbody tr th:only-of-type {\n        vertical-align: middle;\n    }\n\n    .dataframe tbody tr th {\n        vertical-align: top;\n    }\n\n    .dataframe thead th {\n        text-align: right;\n    }\n</style>\n<table border=\"1\" class=\"dataframe\">\n  <thead>\n    <tr style=\"text-align: right;\">\n      <th></th>\n      <th>break_notes</th>\n      <th>end_time</th>\n      <th>pay_rate</th>\n      <th>start_time</th>\n    </tr>\n  </thead>\n  <tbody>\n    <tr>\n      <th>0</th>\n      <td>15-18</td>\n      <td>23:00</td>\n      <td>10.0</td>\n      <td>10:00</td>\n    </tr>\n    <tr>\n      <th>1</th>\n      <td>18.30-19.00</td>\n      <td>23:00</td>\n      <td>12.0</td>\n      <td>18:00</td>\n    </tr>\n    <tr>\n      <th>2</th>\n      <td>4PM-5PM</td>\n      <td>22:30</td>\n      <td>14.0</td>\n      <td>12:00</td>\n    </tr>\n    <tr>\n      <th>3</th>\n      <td>3-4</td>\n      <td>18:00</td>\n      <td>10.0</td>\n      <td>09:00</td>\n    </tr>\n    <tr>\n      <th>4</th>\n      <td>4-4.10PM</td>\n      <td>23:00</td>\n      <td>20.0</td>\n      <td>09:00</td>\n    </tr>\n    <tr>\n      <th>5</th>\n      <td>15 - 17</td>\n      <td>23:00</td>\n      <td>10.0</td>\n      <td>11:00</td>\n    </tr>\n    <tr>\n      <th>6</th>\n      <td>11 - 13</td>\n      <td>16:00</td>\n      <td>10.0</td>\n      <td>10:00</td>\n    </tr>\n  </tbody>\n</table>\n</div>"
     },
     "metadata": {},
     "execution_count": 7
    }
   ],
   "source": [
    "data"
   ]
  },
  {
   "cell_type": "code",
   "execution_count": 8,
   "metadata": {},
   "outputs": [],
   "source": [
    "#Formulate the dictionary with the times as key and total as value\n",
    "\n",
    "startTimes = lambda x: time(hour = int(x.split(\":\")[0]), minute = int(x.split(\":\")[1]))\n",
    "\n",
    "earliestShiftStart = data.start_time.apply(startTimes).min()\n",
    "\n",
    "latestShiftEnd = data.end_time.apply(startTimes).max()\n",
    "\n",
    "allWorkingHoursList = list(range(earliestShiftStart.hour,latestShiftEnd.hour,1))\n",
    "\n",
    "allWorkingHoursList = list(map(lambda x : f\"{x}\", allWorkingHoursList))\n",
    "\n",
    "labourCostDict = dict.fromkeys(allWorkingHoursList, 0)\n"
   ]
  },
  {
   "cell_type": "code",
   "execution_count": 9,
   "metadata": {},
   "outputs": [],
   "source": [
    "def func(x):\n",
    "    if \"PM\" in x:\n",
    "        x = x.replace(\"PM\", \"\")\n",
    "        splitTime = x.split(\"-\")\n",
    "        if \".\" in x:\n",
    "            start = int(splitTime[0]) + 12\n",
    "            end = splitTime[1].replace(splitTime[1][0], f\"{int(splitTime[1][0]) + 12}\") \n",
    "        else:\n",
    "            start = int(splitTime[0]) + 12\n",
    "            end = int(splitTime[1]) + 12\n",
    "    else:\n",
    "        splitTime = x.split(\"-\")\n",
    "        if float(splitTime[0]) < 9:\n",
    "            start = int(splitTime[0]) + 12\n",
    "            end = int(splitTime[1]) + 12\n",
    "        else:\n",
    "            start = splitTime[0].strip()\n",
    "            end = splitTime[1].strip()\n",
    "    return [start, end]\n",
    "\n",
    "breakTimes = list(map(func, data.break_notes))"
   ]
  },
  {
   "cell_type": "code",
   "execution_count": 10,
   "metadata": {},
   "outputs": [
    {
     "output_type": "stream",
     "name": "stdout",
     "text": [
      "['15', '18.30', 16, 15, 16, '15', '11']\n['18', '19.00', 17, 16, '16.10', '17', '13']\n"
     ]
    }
   ],
   "source": [
    "startTimes = []\n",
    "endTimes = []\n",
    "\n",
    "for breaks in breakTimes:\n",
    "    startTimes.append(breaks[0])\n",
    "    endTimes.append(breaks[1])\n",
    "\n",
    "print(startTimes)\n",
    "print(endTimes)"
   ]
  },
  {
   "cell_type": "code",
   "execution_count": 11,
   "metadata": {},
   "outputs": [
    {
     "output_type": "execute_result",
     "data": {
      "text/plain": [
       "   break_notes end_time  pay_rate start_time break_start break_end\n",
       "0        15-18    23:00      10.0      10:00          15        18\n",
       "1  18.30-19.00    23:00      12.0      18:00       18.30     19.00\n",
       "2      4PM-5PM    22:30      14.0      12:00          16        17\n",
       "3          3-4    18:00      10.0      09:00          15        16\n",
       "4     4-4.10PM    23:00      20.0      09:00          16     16.10\n",
       "5      15 - 17    23:00      10.0      11:00          15        17\n",
       "6      11 - 13    16:00      10.0      10:00          11        13"
      ],
      "text/html": "<div>\n<style scoped>\n    .dataframe tbody tr th:only-of-type {\n        vertical-align: middle;\n    }\n\n    .dataframe tbody tr th {\n        vertical-align: top;\n    }\n\n    .dataframe thead th {\n        text-align: right;\n    }\n</style>\n<table border=\"1\" class=\"dataframe\">\n  <thead>\n    <tr style=\"text-align: right;\">\n      <th></th>\n      <th>break_notes</th>\n      <th>end_time</th>\n      <th>pay_rate</th>\n      <th>start_time</th>\n      <th>break_start</th>\n      <th>break_end</th>\n    </tr>\n  </thead>\n  <tbody>\n    <tr>\n      <th>0</th>\n      <td>15-18</td>\n      <td>23:00</td>\n      <td>10.0</td>\n      <td>10:00</td>\n      <td>15</td>\n      <td>18</td>\n    </tr>\n    <tr>\n      <th>1</th>\n      <td>18.30-19.00</td>\n      <td>23:00</td>\n      <td>12.0</td>\n      <td>18:00</td>\n      <td>18.30</td>\n      <td>19.00</td>\n    </tr>\n    <tr>\n      <th>2</th>\n      <td>4PM-5PM</td>\n      <td>22:30</td>\n      <td>14.0</td>\n      <td>12:00</td>\n      <td>16</td>\n      <td>17</td>\n    </tr>\n    <tr>\n      <th>3</th>\n      <td>3-4</td>\n      <td>18:00</td>\n      <td>10.0</td>\n      <td>09:00</td>\n      <td>15</td>\n      <td>16</td>\n    </tr>\n    <tr>\n      <th>4</th>\n      <td>4-4.10PM</td>\n      <td>23:00</td>\n      <td>20.0</td>\n      <td>09:00</td>\n      <td>16</td>\n      <td>16.10</td>\n    </tr>\n    <tr>\n      <th>5</th>\n      <td>15 - 17</td>\n      <td>23:00</td>\n      <td>10.0</td>\n      <td>11:00</td>\n      <td>15</td>\n      <td>17</td>\n    </tr>\n    <tr>\n      <th>6</th>\n      <td>11 - 13</td>\n      <td>16:00</td>\n      <td>10.0</td>\n      <td>10:00</td>\n      <td>11</td>\n      <td>13</td>\n    </tr>\n  </tbody>\n</table>\n</div>"
     },
     "metadata": {},
     "execution_count": 11
    }
   ],
   "source": [
    "data[\"break_start\"] = startTimes\n",
    "data[\"break_end\"] = endTimes\n",
    "\n",
    "data"
   ]
  },
  {
   "cell_type": "code",
   "execution_count": 12,
   "metadata": {},
   "outputs": [],
   "source": [
    "def convertToTimeObject(x):\n",
    "    if type(x) != int and \":\" in x:\n",
    "        splitTime = x.split(\":\")\n",
    "        times = time(hour=int(splitTime[0]), minute=int(splitTime[1]))\n",
    "    elif type(x) != int and \".\" in x:\n",
    "        splitTime = x.split(\".\")\n",
    "        times = time(hour=int(splitTime[0]), minute=int(splitTime[1]))\n",
    "    else:\n",
    "        times = time(hour=int(x))\n",
    "\n",
    "    return times\n"
   ]
  },
  {
   "cell_type": "code",
   "execution_count": 13,
   "metadata": {},
   "outputs": [
    {
     "output_type": "execute_result",
     "data": {
      "text/plain": [
       "   break_notes  end_time  pay_rate start_time break_start break_end\n",
       "0        15-18  23:00:00      10.0   10:00:00    15:00:00  18:00:00\n",
       "1  18.30-19.00  23:00:00      12.0   18:00:00    18:30:00  19:00:00\n",
       "2      4PM-5PM  22:30:00      14.0   12:00:00    16:00:00  17:00:00\n",
       "3          3-4  18:00:00      10.0   09:00:00    15:00:00  16:00:00\n",
       "4     4-4.10PM  23:00:00      20.0   09:00:00    16:00:00  16:10:00\n",
       "5      15 - 17  23:00:00      10.0   11:00:00    15:00:00  17:00:00\n",
       "6      11 - 13  16:00:00      10.0   10:00:00    11:00:00  13:00:00"
      ],
      "text/html": "<div>\n<style scoped>\n    .dataframe tbody tr th:only-of-type {\n        vertical-align: middle;\n    }\n\n    .dataframe tbody tr th {\n        vertical-align: top;\n    }\n\n    .dataframe thead th {\n        text-align: right;\n    }\n</style>\n<table border=\"1\" class=\"dataframe\">\n  <thead>\n    <tr style=\"text-align: right;\">\n      <th></th>\n      <th>break_notes</th>\n      <th>end_time</th>\n      <th>pay_rate</th>\n      <th>start_time</th>\n      <th>break_start</th>\n      <th>break_end</th>\n    </tr>\n  </thead>\n  <tbody>\n    <tr>\n      <th>0</th>\n      <td>15-18</td>\n      <td>23:00:00</td>\n      <td>10.0</td>\n      <td>10:00:00</td>\n      <td>15:00:00</td>\n      <td>18:00:00</td>\n    </tr>\n    <tr>\n      <th>1</th>\n      <td>18.30-19.00</td>\n      <td>23:00:00</td>\n      <td>12.0</td>\n      <td>18:00:00</td>\n      <td>18:30:00</td>\n      <td>19:00:00</td>\n    </tr>\n    <tr>\n      <th>2</th>\n      <td>4PM-5PM</td>\n      <td>22:30:00</td>\n      <td>14.0</td>\n      <td>12:00:00</td>\n      <td>16:00:00</td>\n      <td>17:00:00</td>\n    </tr>\n    <tr>\n      <th>3</th>\n      <td>3-4</td>\n      <td>18:00:00</td>\n      <td>10.0</td>\n      <td>09:00:00</td>\n      <td>15:00:00</td>\n      <td>16:00:00</td>\n    </tr>\n    <tr>\n      <th>4</th>\n      <td>4-4.10PM</td>\n      <td>23:00:00</td>\n      <td>20.0</td>\n      <td>09:00:00</td>\n      <td>16:00:00</td>\n      <td>16:10:00</td>\n    </tr>\n    <tr>\n      <th>5</th>\n      <td>15 - 17</td>\n      <td>23:00:00</td>\n      <td>10.0</td>\n      <td>11:00:00</td>\n      <td>15:00:00</td>\n      <td>17:00:00</td>\n    </tr>\n    <tr>\n      <th>6</th>\n      <td>11 - 13</td>\n      <td>16:00:00</td>\n      <td>10.0</td>\n      <td>10:00:00</td>\n      <td>11:00:00</td>\n      <td>13:00:00</td>\n    </tr>\n  </tbody>\n</table>\n</div>"
     },
     "metadata": {},
     "execution_count": 13
    }
   ],
   "source": [
    "data[\"end_time\"] = list(map(convertToTimeObject, data.end_time))\n",
    "data[\"start_time\"] = list(map(convertToTimeObject, data.start_time))\n",
    "data[\"break_start\"] = list(map(convertToTimeObject, data.break_start))\n",
    "data[\"break_end\"] = list(map(convertToTimeObject, data.break_end))\n",
    "\n",
    "\n",
    "data"
   ]
  },
  {
   "cell_type": "code",
   "execution_count": 14,
   "metadata": {},
   "outputs": [
    {
     "output_type": "execute_result",
     "data": {
      "text/plain": [
       "{'9': 30.0,\n",
       " '10': 50.0,\n",
       " '11': 50.0,\n",
       " '12': 64.0,\n",
       " '13': 74.0,\n",
       " '14': 74.0,\n",
       " '15': 44.0,\n",
       " '16': 10.0,\n",
       " '17': 54.0,\n",
       " '18': 66.0,\n",
       " '19': 66.0,\n",
       " '20': 66.0,\n",
       " '21': 66.0,\n",
       " '22': 59.0}"
      ]
     },
     "metadata": {},
     "execution_count": 14
    }
   ],
   "source": [
    "for key, value in labourCostDict.items():\n",
    "    hourBeginning = time(hour=int(key))\n",
    "\n",
    "    counter=0\n",
    "    for index, row in data.iterrows():\n",
    "        if row['start_time'] <= hourBeginning < row['end_time'] and (row['break_end'] <= hourBeginning or hourBeginning < row['break_start']):\n",
    "            if hourBeginning.hour == row['end_time'].hour:\n",
    "                counter = counter + (row['pay_rate'] * (60 - row['end_time'].minute)/60)\n",
    "            else:\n",
    "                counter = counter + row['pay_rate']\n",
    "    labourCostDict[key] = counter\n",
    "\n",
    "labourCostDict\n",
    "\n"
   ]
  },
  {
   "cell_type": "code",
   "execution_count": 15,
   "metadata": {},
   "outputs": [],
   "source": [
    "# from datetime import time\n",
    "\n",
    "# times = time(hour=10) \n",
    "\n",
    "# timestew = time(hour=10, minute=30)\n",
    "\n",
    "# print(bool(times > timestew))\n",
    "\n",
    "#We can deal with the times by splitting them on the colon and creating a time object out of the value\n",
    "#This will allow is to compare times\n",
    "#All our times should be time objects to allow for comparisons\n",
    "#For break times we need to also create time objects, need to convert to 24h time if \"pm\" comes after the number\n",
    "#Need to reformat "
   ]
  }
 ],
 "metadata": {
  "kernelspec": {
   "display_name": "Python 3.7.5 64-bit",
   "language": "python",
   "name": "python37564bit52ead8ef0e254916b8d7b7e7f21e8ddc"
  },
  "language_info": {
   "codemirror_mode": {
    "name": "ipython",
    "version": 3
   },
   "file_extension": ".py",
   "mimetype": "text/x-python",
   "name": "python",
   "nbconvert_exporter": "python",
   "pygments_lexer": "ipython3",
   "version": "3.7.5-final"
  }
 },
 "nbformat": 4,
 "nbformat_minor": 2
}