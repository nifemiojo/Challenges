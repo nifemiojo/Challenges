{
 "metadata": {
  "language_info": {
   "codemirror_mode": {
    "name": "ipython",
    "version": 3
   },
   "file_extension": ".py",
   "mimetype": "text/x-python",
   "name": "python",
   "nbconvert_exporter": "python",
   "pygments_lexer": "ipython3",
   "version": "3.7.5-final"
  },
  "orig_nbformat": 2,
  "kernelspec": {
   "name": "Python 3.7.5 64-bit",
   "display_name": "Python 3.7.5 64-bit",
   "metadata": {
    "interpreter": {
     "hash": "cbc1630f6ac27d00c9f4ea5ff59d07a3d2920d2fb3e683b05679c37215caa53f"
    }
   }
  }
 },
 "nbformat": 4,
 "nbformat_minor": 2,
 "cells": [
  {
   "cell_type": "code",
   "execution_count": 53,
   "metadata": {},
   "outputs": [],
   "source": [
    "import pandas as pd\n",
    "import numpy as np"
   ]
  },
  {
   "cell_type": "code",
   "execution_count": 54,
   "metadata": {},
   "outputs": [],
   "source": [
    "labourCosts = {\n",
    "    '9': 30.0,\n",
    "    '10': 50.0,\n",
    "    '11': 50.0,\n",
    "    '12': 64.0,\n",
    "    '13': 74.0,\n",
    "    '14': 74.0,\n",
    "    '15': 44.0,\n",
    "    '16': 10.0,\n",
    "    '17': 54.0,\n",
    "    '18': 66.0,\n",
    "    '19': 66.0,\n",
    "    '20': 66.0,\n",
    "    '21': 66.0,\n",
    "    '22': 59.0\n",
    " }\n",
    "\n",
    "transactions = {\n",
    "    '9': 0,\n",
    "    '10': 130.88,\n",
    "    '11': 320.65,\n",
    "    '12': 514.65,\n",
    "    '13': 406.08,\n",
    "    '14': 177.77,\n",
    "    '15': 63.43,\n",
    "    '16': 75.42,\n",
    "    '17': 142.34,\n",
    "    '18': 748.62,\n",
    "    '19': 421.08,\n",
    "    '20': 0,\n",
    "    '21': 240.54,\n",
    "    '22': 0\n",
    "}"
   ]
  },
  {
   "cell_type": "code",
   "execution_count": 55,
   "metadata": {},
   "outputs": [
    {
     "output_type": "execute_result",
     "data": {
      "text/plain": [
       "    labourCosts  transactions  labourCostPerSale\n",
       "9          30.0          0.00             -30.00\n",
       "10         50.0        130.88              38.20\n",
       "11         50.0        320.65              15.59\n",
       "12         64.0        514.65              12.44\n",
       "13         74.0        406.08              18.22\n",
       "14         74.0        177.77              41.63\n",
       "15         44.0         63.43              69.37\n",
       "16         10.0         75.42              13.26\n",
       "17         54.0        142.34              37.94\n",
       "18         66.0        748.62               8.82\n",
       "19         66.0        421.08              15.67\n",
       "20         66.0          0.00             -66.00\n",
       "21         66.0        240.54              27.44\n",
       "22         59.0          0.00             -59.00"
      ],
      "text/html": "<div>\n<style scoped>\n    .dataframe tbody tr th:only-of-type {\n        vertical-align: middle;\n    }\n\n    .dataframe tbody tr th {\n        vertical-align: top;\n    }\n\n    .dataframe thead th {\n        text-align: right;\n    }\n</style>\n<table border=\"1\" class=\"dataframe\">\n  <thead>\n    <tr style=\"text-align: right;\">\n      <th></th>\n      <th>labourCosts</th>\n      <th>transactions</th>\n      <th>labourCostPerSale</th>\n    </tr>\n  </thead>\n  <tbody>\n    <tr>\n      <th>9</th>\n      <td>30.0</td>\n      <td>0.00</td>\n      <td>-30.00</td>\n    </tr>\n    <tr>\n      <th>10</th>\n      <td>50.0</td>\n      <td>130.88</td>\n      <td>38.20</td>\n    </tr>\n    <tr>\n      <th>11</th>\n      <td>50.0</td>\n      <td>320.65</td>\n      <td>15.59</td>\n    </tr>\n    <tr>\n      <th>12</th>\n      <td>64.0</td>\n      <td>514.65</td>\n      <td>12.44</td>\n    </tr>\n    <tr>\n      <th>13</th>\n      <td>74.0</td>\n      <td>406.08</td>\n      <td>18.22</td>\n    </tr>\n    <tr>\n      <th>14</th>\n      <td>74.0</td>\n      <td>177.77</td>\n      <td>41.63</td>\n    </tr>\n    <tr>\n      <th>15</th>\n      <td>44.0</td>\n      <td>63.43</td>\n      <td>69.37</td>\n    </tr>\n    <tr>\n      <th>16</th>\n      <td>10.0</td>\n      <td>75.42</td>\n      <td>13.26</td>\n    </tr>\n    <tr>\n      <th>17</th>\n      <td>54.0</td>\n      <td>142.34</td>\n      <td>37.94</td>\n    </tr>\n    <tr>\n      <th>18</th>\n      <td>66.0</td>\n      <td>748.62</td>\n      <td>8.82</td>\n    </tr>\n    <tr>\n      <th>19</th>\n      <td>66.0</td>\n      <td>421.08</td>\n      <td>15.67</td>\n    </tr>\n    <tr>\n      <th>20</th>\n      <td>66.0</td>\n      <td>0.00</td>\n      <td>-66.00</td>\n    </tr>\n    <tr>\n      <th>21</th>\n      <td>66.0</td>\n      <td>240.54</td>\n      <td>27.44</td>\n    </tr>\n    <tr>\n      <th>22</th>\n      <td>59.0</td>\n      <td>0.00</td>\n      <td>-59.00</td>\n    </tr>\n  </tbody>\n</table>\n</div>"
     },
     "metadata": {},
     "execution_count": 55
    }
   ],
   "source": [
    "data = pd.DataFrame.from_dict(data=labourCosts, orient='index', columns=[\"labourCosts\"])\n",
    "\n",
    "data[\"transactions\"] = transactions.values()\n",
    "\n",
    "data[\"labourCostPerSale\"] = data.labourCosts/data.transactions\n",
    "\n",
    "for index, row in data.iterrows():\n",
    "    if row[\"labourCostPerSale\"] == np.inf:\n",
    "        row[\"labourCostPerSale\"] = -row[\"labourCosts\"]\n",
    "    else:\n",
    "        row[\"labourCostPerSale\"] = round(row[\"labourCostPerSale\"] * 100, 2)\n",
    "    \n",
    "data\n"
   ]
  },
  {
   "cell_type": "code",
   "execution_count": 56,
   "metadata": {},
   "outputs": [],
   "source": [
    "percentagesDict = data.labourCostPerSale.to_dict()"
   ]
  },
  {
   "cell_type": "code",
   "execution_count": 57,
   "metadata": {},
   "outputs": [
    {
     "output_type": "execute_result",
     "data": {
      "text/plain": [
       "{'9': -30.0,\n",
       " '10': 38.2,\n",
       " '11': 15.59,\n",
       " '12': 12.44,\n",
       " '13': 18.22,\n",
       " '14': 41.63,\n",
       " '15': 69.37,\n",
       " '16': 13.26,\n",
       " '17': 37.94,\n",
       " '18': 8.82,\n",
       " '19': 15.67,\n",
       " '20': -66.0,\n",
       " '21': 27.44,\n",
       " '22': -59.0}"
      ]
     },
     "metadata": {},
     "execution_count": 57
    }
   ],
   "source": [
    "percentagesDict"
   ]
  }
 ]
}