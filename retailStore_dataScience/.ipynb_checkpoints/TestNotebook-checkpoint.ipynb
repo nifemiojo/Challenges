{
 "cells": [
  {
   "cell_type": "code",
   "execution_count": 2,
   "metadata": {},
   "outputs": [],
   "source": [
    "import pandas as pd\n",
    "\n",
    "data = pd.read_csv('C:/Users/Nifemi/Code/vsc/Tenzo Int/work_shifts.csv')"
   ]
  },
  {
   "cell_type": "code",
   "execution_count": 3,
   "metadata": {},
   "outputs": [
    {
     "data": {
      "text/html": [
       "<div>\n",
       "<style scoped>\n",
       "    .dataframe tbody tr th:only-of-type {\n",
       "        vertical-align: middle;\n",
       "    }\n",
       "\n",
       "    .dataframe tbody tr th {\n",
       "        vertical-align: top;\n",
       "    }\n",
       "\n",
       "    .dataframe thead th {\n",
       "        text-align: right;\n",
       "    }\n",
       "</style>\n",
       "<table border=\"1\" class=\"dataframe\">\n",
       "  <thead>\n",
       "    <tr style=\"text-align: right;\">\n",
       "      <th></th>\n",
       "      <th>break_notes</th>\n",
       "      <th>end_time</th>\n",
       "      <th>pay_rate</th>\n",
       "      <th>start_time</th>\n",
       "    </tr>\n",
       "  </thead>\n",
       "  <tbody>\n",
       "    <tr>\n",
       "      <th>0</th>\n",
       "      <td>15-18</td>\n",
       "      <td>23:00</td>\n",
       "      <td>10.0</td>\n",
       "      <td>10:00</td>\n",
       "    </tr>\n",
       "    <tr>\n",
       "      <th>1</th>\n",
       "      <td>18.30-19.00</td>\n",
       "      <td>23:00</td>\n",
       "      <td>12.0</td>\n",
       "      <td>18:00</td>\n",
       "    </tr>\n",
       "    <tr>\n",
       "      <th>2</th>\n",
       "      <td>4PM-5PM</td>\n",
       "      <td>22:30</td>\n",
       "      <td>14.0</td>\n",
       "      <td>12:00</td>\n",
       "    </tr>\n",
       "    <tr>\n",
       "      <th>3</th>\n",
       "      <td>3-4</td>\n",
       "      <td>18:00</td>\n",
       "      <td>10.0</td>\n",
       "      <td>09:00</td>\n",
       "    </tr>\n",
       "    <tr>\n",
       "      <th>4</th>\n",
       "      <td>4-4.10PM</td>\n",
       "      <td>23:00</td>\n",
       "      <td>20.0</td>\n",
       "      <td>09:00</td>\n",
       "    </tr>\n",
       "    <tr>\n",
       "      <th>5</th>\n",
       "      <td>15 - 17</td>\n",
       "      <td>23:00</td>\n",
       "      <td>10.0</td>\n",
       "      <td>11:00</td>\n",
       "    </tr>\n",
       "    <tr>\n",
       "      <th>6</th>\n",
       "      <td>11 - 13</td>\n",
       "      <td>16:00</td>\n",
       "      <td>10.0</td>\n",
       "      <td>10:00</td>\n",
       "    </tr>\n",
       "  </tbody>\n",
       "</table>\n",
       "</div>"
      ],
      "text/plain": [
       "   break_notes end_time  pay_rate start_time\n",
       "0        15-18    23:00      10.0      10:00\n",
       "1  18.30-19.00    23:00      12.0      18:00\n",
       "2      4PM-5PM    22:30      14.0      12:00\n",
       "3          3-4    18:00      10.0      09:00\n",
       "4     4-4.10PM    23:00      20.0      09:00\n",
       "5      15 - 17    23:00      10.0      11:00\n",
       "6      11 - 13    16:00      10.0      10:00"
      ]
     },
     "execution_count": 3,
     "metadata": {},
     "output_type": "execute_result"
    }
   ],
   "source": [
    "data"
   ]
  },
  {
   "cell_type": "code",
   "execution_count": 6,
   "metadata": {},
   "outputs": [
    {
     "data": {
      "text/plain": [
       "'10:00'"
      ]
     },
     "execution_count": 6,
     "metadata": {},
     "output_type": "execute_result"
    }
   ],
   "source": [
    "data.start_time[0]"
   ]
  },
  {
   "cell_type": "code",
   "execution_count": 18,
   "metadata": {},
   "outputs": [
    {
     "name": "stdout",
     "output_type": "stream",
     "text": [
      "True\n"
     ]
    }
   ],
   "source": [
    "from datetime import time\n",
    "\n",
    "times = time(hour=10, minute=45) \n",
    "\n",
    "timestew = time(hour=10, minute=30)\n",
    "\n",
    "print(bool(times > timestew))\n",
    "\n",
    "#We can deal with the times by splitting them on the colon and creating a time object out of the value\n",
    "#This will allow is to compare times\n",
    "#All our times should be time objects to allow for comparisons\n",
    "#For break times we need to also create time objects, need to convert to 24h time if \"pm\" comes after the number"
   ]
  }
 ],
 "metadata": {
  "kernelspec": {
   "display_name": "Python 3.7.5 64-bit",
   "language": "python",
   "name": "python37564bit52ead8ef0e254916b8d7b7e7f21e8ddc"
  },
  "language_info": {
   "codemirror_mode": {
    "name": "ipython",
    "version": 3
   },
   "file_extension": ".py",
   "mimetype": "text/x-python",
   "name": "python",
   "nbconvert_exporter": "python",
   "pygments_lexer": "ipython3",
   "version": "3.7.5"
  }
 },
 "nbformat": 4,
 "nbformat_minor": 2
}
