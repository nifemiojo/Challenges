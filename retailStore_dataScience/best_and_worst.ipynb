{
 "metadata": {
  "language_info": {
   "codemirror_mode": {
    "name": "ipython",
    "version": 3
   },
   "file_extension": ".py",
   "mimetype": "text/x-python",
   "name": "python",
   "nbconvert_exporter": "python",
   "pygments_lexer": "ipython3",
   "version": "3.7.5-final"
  },
  "orig_nbformat": 2,
  "kernelspec": {
   "name": "Python 3.7.5 64-bit",
   "display_name": "Python 3.7.5 64-bit",
   "metadata": {
    "interpreter": {
     "hash": "cbc1630f6ac27d00c9f4ea5ff59d07a3d2920d2fb3e683b05679c37215caa53f"
    }
   }
  }
 },
 "nbformat": 4,
 "nbformat_minor": 2,
 "cells": [
  {
   "cell_type": "code",
   "execution_count": 3,
   "metadata": {},
   "outputs": [],
   "source": [
    "import pandas as pd\n",
    "import numpy as np"
   ]
  },
  {
   "cell_type": "code",
   "execution_count": 1,
   "metadata": {},
   "outputs": [],
   "source": [
    "percentages = {\n",
    "    '9': -30.0,\n",
    "    '10': 38.2,\n",
    "    '11': 15.59,\n",
    "    '12': 12.44,\n",
    "    '13': 18.22,\n",
    "    '14': 41.63,\n",
    "    '15': 69.37,\n",
    "    '16': 13.26,\n",
    "    '17': 37.94,\n",
    "    '18': 8.82,\n",
    "    '19': 15.67,\n",
    "    '20': -66.0,\n",
    "    '21': 27.44,\n",
    "    '22': -59.0\n",
    " }"
   ]
  },
  {
   "cell_type": "code",
   "execution_count": 22,
   "metadata": {},
   "outputs": [
    {
     "output_type": "execute_result",
     "data": {
      "text/plain": [
       "[('10', 38.2),\n",
       " ('11', 15.59),\n",
       " ('12', 12.44),\n",
       " ('13', 18.22),\n",
       " ('14', 41.63),\n",
       " ('15', 69.37),\n",
       " ('16', 13.26),\n",
       " ('17', 37.94),\n",
       " ('18', 8.82),\n",
       " ('19', 15.67),\n",
       " ('21', 27.44)]"
      ]
     },
     "metadata": {},
     "execution_count": 22
    }
   ],
   "source": [
    "filteredList = [x for x in percentages.items() if x[1] > 0]\n",
    "filteredList"
   ]
  },
  {
   "cell_type": "code",
   "execution_count": 23,
   "metadata": {},
   "outputs": [],
   "source": [
    "worstval = min(percentages.items(), key=lambda x: x[1])\n",
    "bestval = min(filteredList, key=lambda x: x[1])"
   ]
  },
  {
   "cell_type": "code",
   "execution_count": 25,
   "metadata": {},
   "outputs": [
    {
     "output_type": "execute_result",
     "data": {
      "text/plain": [
       "['18:00', '20:00']"
      ]
     },
     "metadata": {},
     "execution_count": 25
    }
   ],
   "source": [
    "def formatTimeString(time):\n",
    "\n",
    "    newTime = time + \":00\"\n",
    "\n",
    "    return newTime\n",
    "\n",
    "bestHour = formatTimeString(bestval[0])\n",
    "worstHour = formatTimeString(worstval[0])\n",
    "\n",
    "bestAndWorstHour = [bestHour, worstHour]\n",
    "\n",
    "bestAndWorstHour"
   ]
  }
 ]
}