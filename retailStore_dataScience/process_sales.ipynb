{
 "metadata": {
  "language_info": {
   "codemirror_mode": {
    "name": "ipython",
    "version": 3
   },
   "file_extension": ".py",
   "mimetype": "text/x-python",
   "name": "python",
   "nbconvert_exporter": "python",
   "pygments_lexer": "ipython3",
   "version": "3.7.5-final"
  },
  "orig_nbformat": 2,
  "kernelspec": {
   "name": "Python 3.7.5 64-bit",
   "display_name": "Python 3.7.5 64-bit",
   "metadata": {
    "interpreter": {
     "hash": "cbc1630f6ac27d00c9f4ea5ff59d07a3d2920d2fb3e683b05679c37215caa53f"
    }
   }
  }
 },
 "nbformat": 4,
 "nbformat_minor": 2,
 "cells": [
  {
   "cell_type": "code",
   "execution_count": 20,
   "metadata": {},
   "outputs": [],
   "source": [
    "import pandas as pd\n",
    "from datetime import time\n",
    "\n",
    "data = pd.read_csv(\"C:/Users/Nifemi/Code/vsc/TenzoInt/transactions.csv\")"
   ]
  },
  {
   "cell_type": "code",
   "execution_count": 21,
   "metadata": {},
   "outputs": [
    {
     "output_type": "execute_result",
     "data": {
      "text/plain": [
       "    amount   time\n",
       "0   100.32  10:31\n",
       "1    30.56  10:56\n",
       "2   300.65  11:05\n",
       "3    20.00  11:31\n",
       "4    54.56  12:36\n",
       "5   220.09  12:45\n",
       "6   240.00  12:59\n",
       "7   270.43  13:10\n",
       "8   135.65  13:15\n",
       "9    15.43  14:04\n",
       "10  162.34  14:06\n",
       "11   63.43  15:04\n",
       "12   75.42  16:31\n",
       "13  142.34  17:31\n",
       "14   57.54  18:31\n",
       "15  450.54  18:31\n",
       "16  240.54  18:56\n",
       "17  240.54  19:15\n",
       "18  180.54  19:45\n",
       "19  240.54  21:45"
      ],
      "text/html": "<div>\n<style scoped>\n    .dataframe tbody tr th:only-of-type {\n        vertical-align: middle;\n    }\n\n    .dataframe tbody tr th {\n        vertical-align: top;\n    }\n\n    .dataframe thead th {\n        text-align: right;\n    }\n</style>\n<table border=\"1\" class=\"dataframe\">\n  <thead>\n    <tr style=\"text-align: right;\">\n      <th></th>\n      <th>amount</th>\n      <th>time</th>\n    </tr>\n  </thead>\n  <tbody>\n    <tr>\n      <th>0</th>\n      <td>100.32</td>\n      <td>10:31</td>\n    </tr>\n    <tr>\n      <th>1</th>\n      <td>30.56</td>\n      <td>10:56</td>\n    </tr>\n    <tr>\n      <th>2</th>\n      <td>300.65</td>\n      <td>11:05</td>\n    </tr>\n    <tr>\n      <th>3</th>\n      <td>20.00</td>\n      <td>11:31</td>\n    </tr>\n    <tr>\n      <th>4</th>\n      <td>54.56</td>\n      <td>12:36</td>\n    </tr>\n    <tr>\n      <th>5</th>\n      <td>220.09</td>\n      <td>12:45</td>\n    </tr>\n    <tr>\n      <th>6</th>\n      <td>240.00</td>\n      <td>12:59</td>\n    </tr>\n    <tr>\n      <th>7</th>\n      <td>270.43</td>\n      <td>13:10</td>\n    </tr>\n    <tr>\n      <th>8</th>\n      <td>135.65</td>\n      <td>13:15</td>\n    </tr>\n    <tr>\n      <th>9</th>\n      <td>15.43</td>\n      <td>14:04</td>\n    </tr>\n    <tr>\n      <th>10</th>\n      <td>162.34</td>\n      <td>14:06</td>\n    </tr>\n    <tr>\n      <th>11</th>\n      <td>63.43</td>\n      <td>15:04</td>\n    </tr>\n    <tr>\n      <th>12</th>\n      <td>75.42</td>\n      <td>16:31</td>\n    </tr>\n    <tr>\n      <th>13</th>\n      <td>142.34</td>\n      <td>17:31</td>\n    </tr>\n    <tr>\n      <th>14</th>\n      <td>57.54</td>\n      <td>18:31</td>\n    </tr>\n    <tr>\n      <th>15</th>\n      <td>450.54</td>\n      <td>18:31</td>\n    </tr>\n    <tr>\n      <th>16</th>\n      <td>240.54</td>\n      <td>18:56</td>\n    </tr>\n    <tr>\n      <th>17</th>\n      <td>240.54</td>\n      <td>19:15</td>\n    </tr>\n    <tr>\n      <th>18</th>\n      <td>180.54</td>\n      <td>19:45</td>\n    </tr>\n    <tr>\n      <th>19</th>\n      <td>240.54</td>\n      <td>21:45</td>\n    </tr>\n  </tbody>\n</table>\n</div>"
     },
     "metadata": {},
     "execution_count": 21
    }
   ],
   "source": [
    "data"
   ]
  },
  {
   "cell_type": "code",
   "execution_count": 22,
   "metadata": {},
   "outputs": [
    {
     "output_type": "execute_result",
     "data": {
      "text/plain": [
       "{'9': 0,\n",
       " '10': 0,\n",
       " '11': 0,\n",
       " '12': 0,\n",
       " '13': 0,\n",
       " '14': 0,\n",
       " '15': 0,\n",
       " '16': 0,\n",
       " '17': 0,\n",
       " '18': 0,\n",
       " '19': 0,\n",
       " '20': 0,\n",
       " '21': 0,\n",
       " '22': 0}"
      ]
     },
     "metadata": {},
     "execution_count": 22
    }
   ],
   "source": [
    "#Formulate the dictionary with the times as key and total as value\n",
    "startTimes = lambda x: time(hour = int(x.split(\":\")[0]), minute = int(x.split(\":\")[1]))\n",
    "\n",
    "earliestShiftStart = data.time.apply(startTimes).min()\n",
    "\n",
    "latestShiftEnd = data.time.apply(startTimes).max()\n",
    "\n",
    "allWorkingHoursList = list(range(earliestShiftStart.hour - 1,latestShiftEnd.hour + 2,1))\n",
    "\n",
    "allWorkingHoursList = list(map(lambda x : f\"{x}\", allWorkingHoursList))\n",
    "\n",
    "labourCostDict = dict.fromkeys(allWorkingHoursList, 0)\n",
    "\n",
    "labourCostDict"
   ]
  },
  {
   "cell_type": "code",
   "execution_count": 23,
   "metadata": {},
   "outputs": [
    {
     "output_type": "execute_result",
     "data": {
      "text/plain": [
       "    amount      time\n",
       "0   100.32  10:31:00\n",
       "1    30.56  10:56:00\n",
       "2   300.65  11:05:00\n",
       "3    20.00  11:31:00\n",
       "4    54.56  12:36:00\n",
       "5   220.09  12:45:00\n",
       "6   240.00  12:59:00\n",
       "7   270.43  13:10:00\n",
       "8   135.65  13:15:00\n",
       "9    15.43  14:04:00\n",
       "10  162.34  14:06:00\n",
       "11   63.43  15:04:00\n",
       "12   75.42  16:31:00\n",
       "13  142.34  17:31:00\n",
       "14   57.54  18:31:00\n",
       "15  450.54  18:31:00\n",
       "16  240.54  18:56:00\n",
       "17  240.54  19:15:00\n",
       "18  180.54  19:45:00\n",
       "19  240.54  21:45:00"
      ],
      "text/html": "<div>\n<style scoped>\n    .dataframe tbody tr th:only-of-type {\n        vertical-align: middle;\n    }\n\n    .dataframe tbody tr th {\n        vertical-align: top;\n    }\n\n    .dataframe thead th {\n        text-align: right;\n    }\n</style>\n<table border=\"1\" class=\"dataframe\">\n  <thead>\n    <tr style=\"text-align: right;\">\n      <th></th>\n      <th>amount</th>\n      <th>time</th>\n    </tr>\n  </thead>\n  <tbody>\n    <tr>\n      <th>0</th>\n      <td>100.32</td>\n      <td>10:31:00</td>\n    </tr>\n    <tr>\n      <th>1</th>\n      <td>30.56</td>\n      <td>10:56:00</td>\n    </tr>\n    <tr>\n      <th>2</th>\n      <td>300.65</td>\n      <td>11:05:00</td>\n    </tr>\n    <tr>\n      <th>3</th>\n      <td>20.00</td>\n      <td>11:31:00</td>\n    </tr>\n    <tr>\n      <th>4</th>\n      <td>54.56</td>\n      <td>12:36:00</td>\n    </tr>\n    <tr>\n      <th>5</th>\n      <td>220.09</td>\n      <td>12:45:00</td>\n    </tr>\n    <tr>\n      <th>6</th>\n      <td>240.00</td>\n      <td>12:59:00</td>\n    </tr>\n    <tr>\n      <th>7</th>\n      <td>270.43</td>\n      <td>13:10:00</td>\n    </tr>\n    <tr>\n      <th>8</th>\n      <td>135.65</td>\n      <td>13:15:00</td>\n    </tr>\n    <tr>\n      <th>9</th>\n      <td>15.43</td>\n      <td>14:04:00</td>\n    </tr>\n    <tr>\n      <th>10</th>\n      <td>162.34</td>\n      <td>14:06:00</td>\n    </tr>\n    <tr>\n      <th>11</th>\n      <td>63.43</td>\n      <td>15:04:00</td>\n    </tr>\n    <tr>\n      <th>12</th>\n      <td>75.42</td>\n      <td>16:31:00</td>\n    </tr>\n    <tr>\n      <th>13</th>\n      <td>142.34</td>\n      <td>17:31:00</td>\n    </tr>\n    <tr>\n      <th>14</th>\n      <td>57.54</td>\n      <td>18:31:00</td>\n    </tr>\n    <tr>\n      <th>15</th>\n      <td>450.54</td>\n      <td>18:31:00</td>\n    </tr>\n    <tr>\n      <th>16</th>\n      <td>240.54</td>\n      <td>18:56:00</td>\n    </tr>\n    <tr>\n      <th>17</th>\n      <td>240.54</td>\n      <td>19:15:00</td>\n    </tr>\n    <tr>\n      <th>18</th>\n      <td>180.54</td>\n      <td>19:45:00</td>\n    </tr>\n    <tr>\n      <th>19</th>\n      <td>240.54</td>\n      <td>21:45:00</td>\n    </tr>\n  </tbody>\n</table>\n</div>"
     },
     "metadata": {},
     "execution_count": 23
    }
   ],
   "source": [
    "def convertToTimeObject(x):\n",
    "    if type(x) != int and \":\" in x:\n",
    "        splitTime = x.split(\":\")\n",
    "        times = time(hour=int(splitTime[0]), minute=int(splitTime[1]))\n",
    "    elif type(x) != int and \".\" in x:\n",
    "        splitTime = x.split(\".\")\n",
    "        times = time(hour=int(splitTime[0]), minute=int(splitTime[1]))\n",
    "    else:\n",
    "        times = time(hour=int(x))\n",
    "\n",
    "    return times\n",
    "\n",
    "data[\"time\"] = list(map(convertToTimeObject, data.time))\n",
    "\n",
    "data"
   ]
  },
  {
   "cell_type": "code",
   "execution_count": 25,
   "metadata": {},
   "outputs": [
    {
     "output_type": "execute_result",
     "data": {
      "text/plain": [
       "{'9': 0,\n",
       " '10': 130.88,\n",
       " '11': 320.65,\n",
       " '12': 514.65,\n",
       " '13': 406.08,\n",
       " '14': 177.77,\n",
       " '15': 63.43,\n",
       " '16': 75.42,\n",
       " '17': 142.34,\n",
       " '18': 748.62,\n",
       " '19': 421.08,\n",
       " '20': 0,\n",
       " '21': 240.54,\n",
       " '22': 0}"
      ]
     },
     "metadata": {},
     "execution_count": 25
    }
   ],
   "source": [
    "for key, value in labourCostDict.items():\n",
    "    hourBeginning = time(hour=int(key))\n",
    "\n",
    "    counter=0\n",
    "    for index, row in data.iterrows():\n",
    "        if hourBeginning.hour == row[\"time\"].hour:\n",
    "            counter = counter + row['amount']\n",
    "    labourCostDict[key] = round(counter, 2)\n",
    "\n",
    "labourCostDict\n"
   ]
  }
 ]
}